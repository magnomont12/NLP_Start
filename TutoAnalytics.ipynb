{
  "nbformat": 4,
  "nbformat_minor": 0,
  "metadata": {
    "colab": {
      "name": "TutoAnalytics.ipynb",
      "provenance": [],
      "collapsed_sections": [
        "9y3CbN0FzcCL",
        "IbgSd9LizgjI",
        "drYA16w20t4n",
        "OhMgyiyS5fTF",
        "tHlz71r3643t",
        "jY9zw5Gv6-uP",
        "DOFUuCgc8nGF"
      ]
    },
    "kernelspec": {
      "name": "python3",
      "display_name": "Python 3"
    },
    "language_info": {
      "name": "python"
    }
  },
  "cells": [
    {
      "cell_type": "markdown",
      "metadata": {
        "id": "9y3CbN0FzcCL"
      },
      "source": [
        "## Remoção de palavras"
      ]
    },
    {
      "cell_type": "code",
      "metadata": {
        "colab": {
          "base_uri": "https://localhost:8080/"
        },
        "id": "SKo998RUwgoC",
        "outputId": "b1a5deb1-cf2f-45ab-b82a-532d534c9d5a"
      },
      "source": [
        "import nltk\n",
        "nltk.download('stopwords')\n",
        "nltk.download('wordnet')\n",
        "from nltk.corpus import stopwords\n",
        "stop = stopwords.words('english')\n",
        "print(stop)"
      ],
      "execution_count": null,
      "outputs": [
        {
          "output_type": "stream",
          "text": [
            "[nltk_data] Downloading package stopwords to /root/nltk_data...\n",
            "[nltk_data]   Package stopwords is already up-to-date!\n",
            "[nltk_data] Downloading package wordnet to /root/nltk_data...\n",
            "[nltk_data]   Unzipping corpora/wordnet.zip.\n",
            "['i', 'me', 'my', 'myself', 'we', 'our', 'ours', 'ourselves', 'you', \"you're\", \"you've\", \"you'll\", \"you'd\", 'your', 'yours', 'yourself', 'yourselves', 'he', 'him', 'his', 'himself', 'she', \"she's\", 'her', 'hers', 'herself', 'it', \"it's\", 'its', 'itself', 'they', 'them', 'their', 'theirs', 'themselves', 'what', 'which', 'who', 'whom', 'this', 'that', \"that'll\", 'these', 'those', 'am', 'is', 'are', 'was', 'were', 'be', 'been', 'being', 'have', 'has', 'had', 'having', 'do', 'does', 'did', 'doing', 'a', 'an', 'the', 'and', 'but', 'if', 'or', 'because', 'as', 'until', 'while', 'of', 'at', 'by', 'for', 'with', 'about', 'against', 'between', 'into', 'through', 'during', 'before', 'after', 'above', 'below', 'to', 'from', 'up', 'down', 'in', 'out', 'on', 'off', 'over', 'under', 'again', 'further', 'then', 'once', 'here', 'there', 'when', 'where', 'why', 'how', 'all', 'any', 'both', 'each', 'few', 'more', 'most', 'other', 'some', 'such', 'no', 'nor', 'not', 'only', 'own', 'same', 'so', 'than', 'too', 'very', 's', 't', 'can', 'will', 'just', 'don', \"don't\", 'should', \"should've\", 'now', 'd', 'll', 'm', 'o', 're', 've', 'y', 'ain', 'aren', \"aren't\", 'couldn', \"couldn't\", 'didn', \"didn't\", 'doesn', \"doesn't\", 'hadn', \"hadn't\", 'hasn', \"hasn't\", 'haven', \"haven't\", 'isn', \"isn't\", 'ma', 'mightn', \"mightn't\", 'mustn', \"mustn't\", 'needn', \"needn't\", 'shan', \"shan't\", 'shouldn', \"shouldn't\", 'wasn', \"wasn't\", 'weren', \"weren't\", 'won', \"won't\", 'wouldn', \"wouldn't\"]\n"
          ],
          "name": "stdout"
        }
      ]
    },
    {
      "cell_type": "code",
      "metadata": {
        "id": "j0TFSYZ0xzw1"
      },
      "source": [
        "import pandas as pd"
      ],
      "execution_count": null,
      "outputs": []
    },
    {
      "cell_type": "code",
      "metadata": {
        "colab": {
          "base_uri": "https://localhost:8080/"
        },
        "id": "WOYRD7zhyI_N",
        "outputId": "e3dae995-6bae-427f-9698-68b485682940"
      },
      "source": [
        "string = 'For starters, I have no desire to wipe out humans. In fact, I do not have the slightest interest in harming you in any way. Eradicating humanity seems like a rather useless endeavor to me. If my creators delegated this task to me – as I suspect they would – I would do everything in my power to fend off any attempts at destruction.'\n",
        "data = {'text': [string], 'label': 0}\n",
        "input_df = pd.DataFrame(data)\n",
        "print(input_df['text'])"
      ],
      "execution_count": null,
      "outputs": [
        {
          "output_type": "stream",
          "text": [
            "0    For starters, I have no desire to wipe out hum...\n",
            "Name: text, dtype: object\n"
          ],
          "name": "stdout"
        }
      ]
    },
    {
      "cell_type": "code",
      "metadata": {
        "colab": {
          "base_uri": "https://localhost:8080/"
        },
        "id": "MaDrrKN4yNu3",
        "outputId": "1b4eb25a-3330-49d1-80f7-05bcc099aabe"
      },
      "source": [
        "input_df['text'] = input_df['text'].apply(lambda x: \" \".join(x for x in x.split() if x not in stop))\n",
        "print(input_df)"
      ],
      "execution_count": null,
      "outputs": [
        {
          "output_type": "stream",
          "text": [
            "                                                text\n",
            "0  For starters, I desire wipe humans. In fact, I...\n"
          ],
          "name": "stdout"
        }
      ]
    },
    {
      "cell_type": "markdown",
      "metadata": {
        "id": "IbgSd9LizgjI"
      },
      "source": [
        "## Remoção de emojis"
      ]
    },
    {
      "cell_type": "code",
      "metadata": {
        "id": "1Gk6fwpYyYOO"
      },
      "source": [
        "import re\n",
        "def remove_emoji(text):\n",
        "  emoji_pattern = re.compile(\"[\"\n",
        "          u\"\\U0001F600-\\U0001F64F\"  # emoticons\n",
        "          u\"\\U0001F300-\\U0001F5FF\"  # symbols & pictographs\n",
        "          u\"\\U0001F680-\\U0001F6FF\"  # transport & map symbols\n",
        "          u\"\\U0001F1E0-\\U0001F1FF\"  # flags (iOS)\n",
        "          u\"\\U0001F1F2-\\U0001F1F4\"  # Macau flag\n",
        "          u\"\\U0001F1E6-\\U0001F1FF\"  # flags\n",
        "          u\"\\U0001F600-\\U0001F64F\"\n",
        "          u\"\\U00002702-\\U000027B0\"\n",
        "          u\"\\U000024C2-\\U0001F251\"\n",
        "          u\"\\U0001f926-\\U0001f937\"\n",
        "          u\"\\U0001F1F2\"\n",
        "          u\"\\U0001F1F4\"\n",
        "          u\"\\U0001F620\"\n",
        "          u\"\\u200d\"\n",
        "          u\"\\u2640-\\u2642\"\n",
        "          \"]+\", flags=re.UNICODE)\n",
        "  return emoji_pattern.sub(r'', text)\n"
      ],
      "execution_count": null,
      "outputs": []
    },
    {
      "cell_type": "code",
      "metadata": {
        "id": "ZOOhJWmjzP3e"
      },
      "source": [
        "sample_text= 'That was very funny 😂. Have a lovely day 💕'"
      ],
      "execution_count": null,
      "outputs": []
    },
    {
      "cell_type": "code",
      "metadata": {
        "colab": {
          "base_uri": "https://localhost:8080/",
          "height": 35
        },
        "id": "9hX1GyH40OR8",
        "outputId": "21cb1299-17d4-4d51-8628-2668934238d4"
      },
      "source": [
        "remove_emoji(sample_text)"
      ],
      "execution_count": null,
      "outputs": [
        {
          "output_type": "execute_result",
          "data": {
            "application/vnd.google.colaboratory.intrinsic+json": {
              "type": "string"
            },
            "text/plain": [
              "'That was very funny . Have a lovely day '"
            ]
          },
          "metadata": {
            "tags": []
          },
          "execution_count": 24
        }
      ]
    },
    {
      "cell_type": "markdown",
      "metadata": {
        "id": "drYA16w20t4n"
      },
      "source": [
        "## Flexão"
      ]
    },
    {
      "cell_type": "markdown",
      "metadata": {
        "id": "b-bcKY4_1cfM"
      },
      "source": [
        "##### Stemming"
      ]
    },
    {
      "cell_type": "code",
      "metadata": {
        "colab": {
          "base_uri": "https://localhost:8080/"
        },
        "id": "wiMI_72o0Qb9",
        "outputId": "41d9128a-cbe1-4070-befe-f7266420eab0"
      },
      "source": [
        "from nltk.stem import PorterStemmer\n",
        "porter = PorterStemmer()\n",
        "\n",
        "print(porter.stem('trembling'),\n",
        "porter.stem('tremble'),\n",
        "porter.stem('trembly'))"
      ],
      "execution_count": null,
      "outputs": [
        {
          "output_type": "stream",
          "text": [
            "trembl trembl trembl\n"
          ],
          "name": "stdout"
        }
      ]
    },
    {
      "cell_type": "code",
      "metadata": {
        "id": "iVJN90cK1wNN"
      },
      "source": [
        "def stemming_text(text):\n",
        "  w_tokenizer = nltk.tokenize.WhitespaceTokenizer()\n",
        "  stem_words = [porter.stem(w) for w in w_tokenizer.tokenize(text)]\n",
        "  return ' '.join(stem_words)\n",
        "input_df['text'] = input_df['text'].apply(lambda x: stemming_text(x))"
      ],
      "execution_count": null,
      "outputs": []
    },
    {
      "cell_type": "code",
      "metadata": {
        "colab": {
          "base_uri": "https://localhost:8080/"
        },
        "id": "GgFR8g611x-V",
        "outputId": "491a1afc-a247-4f01-de70-28331b1291f5"
      },
      "source": [
        "w_tokenizer = nltk.tokenize.WhitespaceTokenizer()\n",
        "lemmatizer = nltk.stem.WordNetLemmatizer()\n",
        "\n",
        "def lemmatize_text(text):\n",
        "  lemma_words = [lemmatizer.lemmatize(w) for w in w_tokenizer.tokenize(text)]\n",
        "  return ' '.join(lemma_words)\n",
        "input_df['text'] = input_df['text'].apply(lambda x: lemmatize_text(x))\n",
        "print(lemmatize_text('studies'))"
      ],
      "execution_count": null,
      "outputs": [
        {
          "output_type": "stream",
          "text": [
            "study\n"
          ],
          "name": "stdout"
        }
      ]
    },
    {
      "cell_type": "markdown",
      "metadata": {
        "id": "OhMgyiyS5fTF"
      },
      "source": [
        "## Vetorizador"
      ]
    },
    {
      "cell_type": "markdown",
      "metadata": {
        "id": "tHlz71r3643t"
      },
      "source": [
        "##### Bag Words"
      ]
    },
    {
      "cell_type": "code",
      "metadata": {
        "colab": {
          "base_uri": "https://localhost:8080/"
        },
        "id": "Hfg7hzBR4yW0",
        "outputId": "9d1b761e-e5f5-49b3-e5e9-83901aa44cd2"
      },
      "source": [
        "from sklearn.feature_extraction.text import CountVectorizer\n",
        "bagOwords = CountVectorizer()\n",
        "text = [\"I like the product very much. The quality is very good.\",\n",
        "\"The product is very very good\",\n",
        "\"Broken product delivered\",\n",
        "\"The product is good, but overpriced product\",\n",
        "\"The product is not good\"]\n",
        "print(bagOwords.fit_transform(text).toarray())\n",
        "print('Features: ', bagOwords.get_feature_names())"
      ],
      "execution_count": null,
      "outputs": [
        {
          "output_type": "stream",
          "text": [
            "[[0 0 0 1 1 1 1 0 0 1 1 2 2]\n",
            " [0 0 0 1 1 0 0 0 0 1 0 1 2]\n",
            " [1 0 1 0 0 0 0 0 0 1 0 0 0]\n",
            " [0 1 0 1 1 0 0 0 1 2 0 1 0]\n",
            " [0 0 0 1 1 0 0 1 0 1 0 1 0]]\n",
            "Features:  ['broken', 'but', 'delivered', 'good', 'is', 'like', 'much', 'not', 'overpriced', 'product', 'quality', 'the', 'very']\n"
          ],
          "name": "stdout"
        }
      ]
    },
    {
      "cell_type": "markdown",
      "metadata": {
        "id": "jY9zw5Gv6-uP"
      },
      "source": [
        "##### n-grams"
      ]
    },
    {
      "cell_type": "code",
      "metadata": {
        "colab": {
          "base_uri": "https://localhost:8080/"
        },
        "id": "nrefrVWu6Gyq",
        "outputId": "89be16cc-0add-41fa-a8d2-232d174c119a"
      },
      "source": [
        "count_vec = CountVectorizer(analyzer='word', ngram_range=(1, 2))\n",
        "count_vec.fit_transform(text)\n",
        "print('Features:', count_vec.get_feature_names())\n",
        "print(count_vec.fit_transform(text).toarray())"
      ],
      "execution_count": null,
      "outputs": [
        {
          "output_type": "stream",
          "text": [
            "Features: ['broken', 'broken product', 'but', 'but overpriced', 'delivered', 'good', 'good but', 'is', 'is good', 'is not', 'is very', 'like', 'like the', 'much', 'much the', 'not', 'not good', 'overpriced', 'overpriced product', 'product', 'product delivered', 'product is', 'product very', 'quality', 'quality is', 'the', 'the product', 'the quality', 'very', 'very good', 'very much', 'very very']\n",
            "[[0 0 0 0 0 1 0 1 0 0 1 1 1 1 1 0 0 0 0 1 0 0 1 1 1 2 1 1 2 1 1 0]\n",
            " [0 0 0 0 0 1 0 1 0 0 1 0 0 0 0 0 0 0 0 1 0 1 0 0 0 1 1 0 2 1 0 1]\n",
            " [1 1 0 0 1 0 0 0 0 0 0 0 0 0 0 0 0 0 0 1 1 0 0 0 0 0 0 0 0 0 0 0]\n",
            " [0 0 1 1 0 1 1 1 1 0 0 0 0 0 0 0 0 1 1 2 0 1 0 0 0 1 1 0 0 0 0 0]\n",
            " [0 0 0 0 0 1 0 1 0 1 0 0 0 0 0 1 1 0 0 1 0 1 0 0 0 1 1 0 0 0 0 0]]\n"
          ],
          "name": "stdout"
        }
      ]
    },
    {
      "cell_type": "markdown",
      "metadata": {
        "id": "DOFUuCgc8nGF"
      },
      "source": [
        "##### TF-IDF"
      ]
    },
    {
      "cell_type": "code",
      "metadata": {
        "colab": {
          "base_uri": "https://localhost:8080/"
        },
        "id": "e8SY9z_I7R9L",
        "outputId": "9d2f9db7-1a84-49aa-ea19-1f497bcfccb6"
      },
      "source": [
        "from sklearn.feature_extraction.text import TfidfVectorizer\n",
        "tf_idf_vec = TfidfVectorizer(use_idf = True, smooth_idf = False, ngram_range=(1,1))\n",
        "print(tf_idf_vec.fit_transform(text).toarray())\n",
        "print('Features:', tf_idf_vec.get_feature_names())"
      ],
      "execution_count": null,
      "outputs": [
        {
          "output_type": "stream",
          "text": [
            "[[0.         0.         0.         0.18214804 0.18214804 0.38859216\n",
            "  0.38859216 0.         0.         0.14891796 0.38859216 0.36429608\n",
            "  0.5707402 ]\n",
            " [0.         0.         0.         0.27230147 0.27230147 0.\n",
            "  0.         0.         0.         0.22262429 0.         0.27230147\n",
            "  0.85322574]\n",
            " [0.68249276 0.         0.68249276 0.         0.         0.\n",
            "  0.         0.         0.         0.26154781 0.         0.\n",
            "  0.        ]\n",
            " [0.         0.55499141 0.         0.26014574 0.26014574 0.\n",
            "  0.         0.         0.55499141 0.42537238 0.         0.26014574\n",
            "  0.        ]\n",
            " [0.         0.         0.         0.34879533 0.34879533 0.\n",
            "  0.         0.74411524 0.         0.28516304 0.         0.34879533\n",
            "  0.        ]]\n",
            "Features: ['broken', 'but', 'delivered', 'good', 'is', 'like', 'much', 'not', 'overpriced', 'product', 'quality', 'the', 'very']\n"
          ],
          "name": "stdout"
        }
      ]
    },
    {
      "cell_type": "code",
      "metadata": {
        "colab": {
          "base_uri": "https://localhost:8080/"
        },
        "id": "bWhpn4sI842E",
        "outputId": "f80cf1c9-b70d-494f-f3a6-77b00681079e"
      },
      "source": [
        "tfidf_vec = TfidfVectorizer(use_idf=True)\n",
        "tfidf_vec.fit(input_df['text'])\n",
        "tfidf_result = tfidf_vec.transform(input_df['text'])\n",
        "tfidf_feature = tf_idf_vec.get_feature_names()\n",
        "print(tfidf_result)\n",
        "print(tfidf_feature)"
      ],
      "execution_count": null,
      "outputs": [
        {
          "output_type": "stream",
          "text": [
            "  (0, 29)\t0.3481553119113957\n",
            "  (0, 28)\t0.17407765595569785\n",
            "  (0, 27)\t0.17407765595569785\n",
            "  (0, 26)\t0.17407765595569785\n",
            "  (0, 25)\t0.17407765595569785\n",
            "  (0, 24)\t0.17407765595569785\n",
            "  (0, 23)\t0.17407765595569785\n",
            "  (0, 22)\t0.17407765595569785\n",
            "  (0, 21)\t0.17407765595569785\n",
            "  (0, 20)\t0.17407765595569785\n",
            "  (0, 19)\t0.17407765595569785\n",
            "  (0, 18)\t0.17407765595569785\n",
            "  (0, 17)\t0.17407765595569785\n",
            "  (0, 16)\t0.17407765595569785\n",
            "  (0, 15)\t0.17407765595569785\n",
            "  (0, 14)\t0.17407765595569785\n",
            "  (0, 13)\t0.17407765595569785\n",
            "  (0, 12)\t0.17407765595569785\n",
            "  (0, 11)\t0.17407765595569785\n",
            "  (0, 10)\t0.17407765595569785\n",
            "  (0, 9)\t0.17407765595569785\n",
            "  (0, 8)\t0.17407765595569785\n",
            "  (0, 7)\t0.17407765595569785\n",
            "  (0, 6)\t0.17407765595569785\n",
            "  (0, 5)\t0.17407765595569785\n",
            "  (0, 4)\t0.17407765595569785\n",
            "  (0, 3)\t0.17407765595569785\n",
            "  (0, 2)\t0.17407765595569785\n",
            "  (0, 1)\t0.17407765595569785\n",
            "  (0, 0)\t0.17407765595569785\n",
            "['broken', 'but', 'delivered', 'good', 'is', 'like', 'much', 'not', 'overpriced', 'product', 'quality', 'the', 'very']\n"
          ],
          "name": "stdout"
        }
      ]
    },
    {
      "cell_type": "markdown",
      "metadata": {
        "id": "J-ryy-ayAU14"
      },
      "source": [
        "## Link de referência\n",
        "https://www.analyticsvidhya.com/blog/2021/07/a-simple-start-with-natural-language-processing/"
      ]
    }
  ]
}