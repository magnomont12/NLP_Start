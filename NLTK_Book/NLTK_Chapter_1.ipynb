{
  "nbformat": 4,
  "nbformat_minor": 0,
  "metadata": {
    "colab": {
      "name": "NLTK - Chapter 1.ipynb",
      "provenance": [],
      "collapsed_sections": [
        "Zr2fhCrXTg5j",
        "lAEnShGOU4Uy",
        "NgCXxL4ZWTkw",
        "Ao1bqtejZQxm",
        "MxeHgGy0fkqn",
        "NEw7FZxyr-te",
        "q5AaMNmqtXj5",
        "JQc6ld-00grl",
        "2XC9K5oW09MY",
        "4zICvmin19xK",
        "Kjz4fK6F26xT",
        "IaenfGkz6oc3"
      ]
    },
    "kernelspec": {
      "name": "python3",
      "display_name": "Python 3"
    },
    "language_info": {
      "name": "python"
    }
  },
  "cells": [
    {
      "cell_type": "markdown",
      "metadata": {
        "id": "Zr2fhCrXTg5j"
      },
      "source": [
        "# Chapter 1 - NLTK - Language Processing and Python\n",
        "Link: https://www.nltk.org/book/ch01.html"
      ]
    },
    {
      "cell_type": "markdown",
      "metadata": {
        "id": "lAEnShGOU4Uy"
      },
      "source": [
        "## 1.2 - Getting start with NLTK"
      ]
    },
    {
      "cell_type": "code",
      "metadata": {
        "id": "vm0zrq-uTe-d"
      },
      "source": [
        "import nltk\n",
        "nltk.download()"
      ],
      "execution_count": null,
      "outputs": []
    },
    {
      "cell_type": "code",
      "metadata": {
        "colab": {
          "base_uri": "https://localhost:8080/"
        },
        "id": "WS1lCP-sU-kZ",
        "outputId": "3e69381a-a152-431b-bbf2-c7d7f4036fff"
      },
      "source": [
        "from nltk.book import *"
      ],
      "execution_count": null,
      "outputs": [
        {
          "output_type": "stream",
          "text": [
            "*** Introductory Examples for the NLTK Book ***\n",
            "Loading text1, ..., text9 and sent1, ..., sent9\n",
            "Type the name of the text or sentence to view it.\n",
            "Type: 'texts()' or 'sents()' to list the materials.\n",
            "text1: Moby Dick by Herman Melville 1851\n",
            "text2: Sense and Sensibility by Jane Austen 1811\n",
            "text3: The Book of Genesis\n",
            "text4: Inaugural Address Corpus\n",
            "text5: Chat Corpus\n",
            "text6: Monty Python and the Holy Grail\n",
            "text7: Wall Street Journal\n",
            "text8: Personals Corpus\n",
            "text9: The Man Who Was Thursday by G . K . Chesterton 1908\n"
          ],
          "name": "stdout"
        }
      ]
    },
    {
      "cell_type": "code",
      "metadata": {
        "colab": {
          "base_uri": "https://localhost:8080/"
        },
        "id": "dN6lgK73VfBI",
        "outputId": "3b61e40a-8775-4bdf-c457-d27125c200bb"
      },
      "source": [
        "text1"
      ],
      "execution_count": null,
      "outputs": [
        {
          "output_type": "execute_result",
          "data": {
            "text/plain": [
              "<Text: Moby Dick by Herman Melville 1851>"
            ]
          },
          "metadata": {},
          "execution_count": 5
        }
      ]
    },
    {
      "cell_type": "markdown",
      "metadata": {
        "id": "NgCXxL4ZWTkw"
      },
      "source": [
        "## 1.3 - Searching Text"
      ]
    },
    {
      "cell_type": "code",
      "metadata": {
        "colab": {
          "base_uri": "https://localhost:8080/"
        },
        "id": "-jeP_eztWQCZ",
        "outputId": "89df1ac1-ae24-4bb7-fae5-4a9060a4dacf"
      },
      "source": [
        "text1.concordance('monstrous')"
      ],
      "execution_count": null,
      "outputs": [
        {
          "output_type": "stream",
          "text": [
            "Displaying 11 of 11 matches:\n",
            "ong the former , one was of a most monstrous size . ... This came towards us , \n",
            "ON OF THE PSALMS . \" Touching that monstrous bulk of the whale or ork we have r\n",
            "ll over with a heathenish array of monstrous clubs and spears . Some were thick\n",
            "d as you gazed , and wondered what monstrous cannibal and savage could ever hav\n",
            "that has survived the flood ; most monstrous and most mountainous ! That Himmal\n",
            "they might scout at Moby Dick as a monstrous fable , or still worse and more de\n",
            "th of Radney .'\" CHAPTER 55 Of the Monstrous Pictures of Whales . I shall ere l\n",
            "ing Scenes . In connexion with the monstrous pictures of whales , I am strongly\n",
            "ere to enter upon those still more monstrous stories of them which are to be fo\n",
            "ght have been rummaged out of this monstrous cabinet there is no telling . But \n",
            "of Whale - Bones ; for Whales of a monstrous size are oftentimes cast up dead u\n"
          ],
          "name": "stdout"
        }
      ]
    },
    {
      "cell_type": "code",
      "metadata": {
        "colab": {
          "base_uri": "https://localhost:8080/"
        },
        "id": "_NGs_r9iWi6x",
        "outputId": "8570fe96-5a91-44c7-dedd-896ca262631d"
      },
      "source": [
        "text1.similar(\"monstrous\")"
      ],
      "execution_count": null,
      "outputs": [
        {
          "output_type": "stream",
          "text": [
            "true contemptible christian abundant few part mean careful puzzled\n",
            "mystifying passing curious loving wise doleful gamesome singular\n",
            "delightfully perilous fearless\n"
          ],
          "name": "stdout"
        }
      ]
    },
    {
      "cell_type": "code",
      "metadata": {
        "colab": {
          "base_uri": "https://localhost:8080/"
        },
        "id": "cenbkkhJXseh",
        "outputId": "3f969c18-87bb-456a-a85b-01726ef2cbf6"
      },
      "source": [
        "text2.common_contexts(['monstrous', 'very'])"
      ],
      "execution_count": null,
      "outputs": [
        {
          "output_type": "stream",
          "text": [
            "a_pretty am_glad a_lucky is_pretty be_glad\n"
          ],
          "name": "stdout"
        }
      ]
    },
    {
      "cell_type": "code",
      "metadata": {
        "colab": {
          "base_uri": "https://localhost:8080/",
          "height": 295
        },
        "id": "l7YvjGBKYJyB",
        "outputId": "1ac637bb-5da2-4fc8-a319-5533b1e7fd43"
      },
      "source": [
        "text4.dispersion_plot([\"citizens\", \"democracy\", \"freedom\", \"duties\", \"America\", \"Liberty\", \"liberty\"])"
      ],
      "execution_count": null,
      "outputs": [
        {
          "output_type": "display_data",
          "data": {
            "image/png": "[encoded data removed]",
            "text/plain": [
              "<Figure size 432x288 with 1 Axes>"
            ]
          },
          "metadata": {
            "needs_background": "light"
          }
        }
      ]
    },
    {
      "cell_type": "markdown",
      "metadata": {
        "id": "Ao1bqtejZQxm"
      },
      "source": [
        "## 1.4 - Counting Vocabulary"
      ]
    },
    {
      "cell_type": "code",
      "metadata": {
        "colab": {
          "base_uri": "https://localhost:8080/"
        },
        "id": "PH55ZOnjZFtw",
        "outputId": "973171db-ad66-4bf9-a714-e63faa4b7d69"
      },
      "source": [
        "len(text3)"
      ],
      "execution_count": null,
      "outputs": [
        {
          "output_type": "execute_result",
          "data": {
            "text/plain": [
              "44764"
            ]
          },
          "metadata": {},
          "execution_count": 18
        }
      ]
    },
    {
      "cell_type": "code",
      "metadata": {
        "colab": {
          "base_uri": "https://localhost:8080/"
        },
        "id": "-z4B5F-acwa5",
        "outputId": "5259a91e-11f2-4927-8d93-e6f2d571b828"
      },
      "source": [
        "len(set(text3))"
      ],
      "execution_count": null,
      "outputs": [
        {
          "output_type": "execute_result",
          "data": {
            "text/plain": [
              "2789"
            ]
          },
          "metadata": {},
          "execution_count": 19
        }
      ]
    },
    {
      "cell_type": "code",
      "metadata": {
        "colab": {
          "base_uri": "https://localhost:8080/"
        },
        "id": "8u_tHiQccyQo",
        "outputId": "7a5ef660-181c-4ba6-fdd6-b5f6c4a3447a"
      },
      "source": [
        "text3.count('smote')"
      ],
      "execution_count": null,
      "outputs": [
        {
          "output_type": "execute_result",
          "data": {
            "text/plain": [
              "5"
            ]
          },
          "metadata": {},
          "execution_count": 20
        }
      ]
    },
    {
      "cell_type": "code",
      "metadata": {
        "colab": {
          "base_uri": "https://localhost:8080/"
        },
        "id": "-rMiNedxdczY",
        "outputId": "abfcb457-9000-422a-8854-c15f6b53a74e"
      },
      "source": [
        "100 * text4.count('a') / len(text4)"
      ],
      "execution_count": null,
      "outputs": [
        {
          "output_type": "execute_result",
          "data": {
            "text/plain": [
              "1.457973123627309"
            ]
          },
          "metadata": {},
          "execution_count": 21
        }
      ]
    },
    {
      "cell_type": "code",
      "metadata": {
        "id": "lItiLxDNdg84"
      },
      "source": [
        "def lexical_diversity(text):\n",
        "  return len(set(text)) / len(text)\n",
        "def percentage(count, total):\n",
        "  return 100* count/total"
      ],
      "execution_count": null,
      "outputs": []
    },
    {
      "cell_type": "code",
      "metadata": {
        "colab": {
          "base_uri": "https://localhost:8080/"
        },
        "id": "VcmYCIyXeHAo",
        "outputId": "fb9f05c1-3fab-458d-9af6-a6938560c7ee"
      },
      "source": [
        "percentage(text4.count('a'), len(text4))"
      ],
      "execution_count": null,
      "outputs": [
        {
          "output_type": "execute_result",
          "data": {
            "text/plain": [
              "1.457973123627309"
            ]
          },
          "metadata": {},
          "execution_count": 25
        }
      ]
    },
    {
      "cell_type": "code",
      "metadata": {
        "id": "Ag217vgteTBQ"
      },
      "source": [
        ""
      ],
      "execution_count": null,
      "outputs": []
    },
    {
      "cell_type": "markdown",
      "metadata": {
        "id": "MxeHgGy0fkqn"
      },
      "source": [
        "# 3 - Computing with Language: Simple Statistics"
      ]
    },
    {
      "cell_type": "markdown",
      "metadata": {
        "id": "NEw7FZxyr-te"
      },
      "source": [
        "## 3.1 Frequency Distribution"
      ]
    },
    {
      "cell_type": "code",
      "metadata": {
        "id": "QeR00rdufmc4"
      },
      "source": [
        "saying = ['After', 'all', 'is', 'said', 'and', 'done','more', 'is', 'said', 'than', 'done']"
      ],
      "execution_count": null,
      "outputs": []
    },
    {
      "cell_type": "code",
      "metadata": {
        "id": "JECLJKlModM1"
      },
      "source": [
        "saying = set(saying)\n",
        "saying = sorted(saying)"
      ],
      "execution_count": null,
      "outputs": []
    },
    {
      "cell_type": "code",
      "metadata": {
        "colab": {
          "base_uri": "https://localhost:8080/"
        },
        "id": "AX5Xl93Vohit",
        "outputId": "947f890d-7b7b-4886-d34e-7e5857fa75ae"
      },
      "source": [
        "saying[-2:]"
      ],
      "execution_count": null,
      "outputs": [
        {
          "output_type": "execute_result",
          "data": {
            "text/plain": [
              "['said', 'than']"
            ]
          },
          "metadata": {},
          "execution_count": 3
        }
      ]
    },
    {
      "cell_type": "code",
      "metadata": {
        "colab": {
          "base_uri": "https://localhost:8080/"
        },
        "id": "w8RiuNltojbm",
        "outputId": "cad70a8d-8037-4104-c689-712b9d1d49d5"
      },
      "source": [
        "saying"
      ],
      "execution_count": null,
      "outputs": [
        {
          "output_type": "execute_result",
          "data": {
            "text/plain": [
              "['After', 'all', 'and', 'done', 'is', 'more', 'said', 'than']"
            ]
          },
          "metadata": {},
          "execution_count": 4
        }
      ]
    },
    {
      "cell_type": "code",
      "metadata": {
        "colab": {
          "base_uri": "https://localhost:8080/"
        },
        "id": "pZxWwR02okvF",
        "outputId": "ed5705c9-3a70-4032-8764-01adb14f89f2"
      },
      "source": [
        "fdist = FreqDist(text1)\n",
        "print(fdist)"
      ],
      "execution_count": null,
      "outputs": [
        {
          "output_type": "stream",
          "text": [
            "<FreqDist with 19317 samples and 260819 outcomes>\n"
          ],
          "name": "stdout"
        }
      ]
    },
    {
      "cell_type": "code",
      "metadata": {
        "id": "zJ9p3D6ppBnt"
      },
      "source": [
        "fdist.most_common(50)"
      ],
      "execution_count": null,
      "outputs": []
    },
    {
      "cell_type": "code",
      "metadata": {
        "colab": {
          "base_uri": "https://localhost:8080/",
          "height": 299
        },
        "id": "ZhfvvOivpk9z",
        "outputId": "dff47663-06bd-406e-c47c-4d1e44d27ccd"
      },
      "source": [
        "fdist.plot(50, cumulative = True)"
      ],
      "execution_count": null,
      "outputs": [
        {
          "output_type": "display_data",
          "data": {
            "image/png": "[encoded data removed]",
            "text/plain": [
              "<Figure size 432x288 with 1 Axes>"
            ]
          },
          "metadata": {
            "needs_background": "light"
          }
        }
      ]
    },
    {
      "cell_type": "code",
      "metadata": {
        "id": "kx_Q38ObraJ9"
      },
      "source": [
        "fdist.hapaxes()"
      ],
      "execution_count": null,
      "outputs": []
    },
    {
      "cell_type": "markdown",
      "metadata": {
        "id": "_vxB6G_5sDgv"
      },
      "source": [
        "## 3.2 Fine-grained Selection of Words"
      ]
    },
    {
      "cell_type": "code",
      "metadata": {
        "colab": {
          "base_uri": "https://localhost:8080/"
        },
        "id": "G7lSzlWHrxfs",
        "outputId": "67827020-49f6-4d4b-8b6a-91d5cb29e83c"
      },
      "source": [
        "V = set(text1)\n",
        "long_words = [w for w in V if fdist[w]>1000]\n",
        "sorted(long_words)"
      ],
      "execution_count": null,
      "outputs": [
        {
          "output_type": "execute_result",
          "data": {
            "text/plain": [
              "['!',\n",
              " '\"',\n",
              " \"'\",\n",
              " ',',\n",
              " '-',\n",
              " '--',\n",
              " '.',\n",
              " ';',\n",
              " 'I',\n",
              " 'a',\n",
              " 'all',\n",
              " 'and',\n",
              " 'as',\n",
              " 'at',\n",
              " 'be',\n",
              " 'but',\n",
              " 'by',\n",
              " 'for',\n",
              " 'from',\n",
              " 'he',\n",
              " 'him',\n",
              " 'his',\n",
              " 'in',\n",
              " 'is',\n",
              " 'it',\n",
              " 'not',\n",
              " 'of',\n",
              " 'on',\n",
              " 's',\n",
              " 'that',\n",
              " 'the',\n",
              " 'this',\n",
              " 'to',\n",
              " 'was',\n",
              " 'with']"
            ]
          },
          "metadata": {},
          "execution_count": 26
        }
      ]
    },
    {
      "cell_type": "markdown",
      "metadata": {
        "id": "q5AaMNmqtXj5"
      },
      "source": [
        "## 3.3 Collocations and *Brigrams*"
      ]
    },
    {
      "cell_type": "code",
      "metadata": {
        "colab": {
          "base_uri": "https://localhost:8080/"
        },
        "id": "CgZf3p5MstBM",
        "outputId": "2ef35135-36bc-41f2-80ab-ac3786a33d27"
      },
      "source": [
        "list(bigrams(['more', 'is', 'said', 'than', 'done']))"
      ],
      "execution_count": null,
      "outputs": [
        {
          "output_type": "execute_result",
          "data": {
            "text/plain": [
              "[('more', 'is'), ('is', 'said'), ('said', 'than'), ('than', 'done')]"
            ]
          },
          "metadata": {},
          "execution_count": 27
        }
      ]
    },
    {
      "cell_type": "code",
      "metadata": {
        "colab": {
          "base_uri": "https://localhost:8080/"
        },
        "id": "pEGOxcgctv8r",
        "outputId": "c750a45a-12ce-4fff-c4b5-dfe7cbcecf65"
      },
      "source": [
        "text4.collocations()"
      ],
      "execution_count": null,
      "outputs": [
        {
          "output_type": "stream",
          "text": [
            "United States; fellow citizens; four years; years ago; Federal\n",
            "Government; General Government; American people; Vice President; God\n",
            "bless; Chief Justice; Old World; Almighty God; Fellow citizens; Chief\n",
            "Magistrate; every citizen; one another; fellow Americans; Indian\n",
            "tribes; public debt; foreign nations\n"
          ],
          "name": "stdout"
        }
      ]
    },
    {
      "cell_type": "markdown",
      "metadata": {
        "id": "XFkQZQARuqmS"
      },
      "source": [
        "## 3.4 Counting Other Things"
      ]
    },
    {
      "cell_type": "code",
      "metadata": {
        "colab": {
          "base_uri": "https://localhost:8080/"
        },
        "id": "hvl3o9F7uIGD",
        "outputId": "9160aa57-8bf8-42e3-ca2f-7c5cb8c48e52"
      },
      "source": [
        " number_words = [len(w) for w in text1]\n",
        "fdist1 = FreqDist(number_words)\n",
        "print(fdist1)"
      ],
      "execution_count": null,
      "outputs": [
        {
          "output_type": "stream",
          "text": [
            "<FreqDist with 19 samples and 260819 outcomes>\n"
          ],
          "name": "stdout"
        }
      ]
    },
    {
      "cell_type": "code",
      "metadata": {
        "colab": {
          "base_uri": "https://localhost:8080/"
        },
        "id": "qeOPezSzvCaK",
        "outputId": "545a6748-08ef-49fc-a31b-0333144eb75e"
      },
      "source": [
        "fdist1"
      ],
      "execution_count": null,
      "outputs": [
        {
          "output_type": "execute_result",
          "data": {
            "text/plain": [
              "FreqDist({1: 47933,\n",
              "          2: 38513,\n",
              "          3: 50223,\n",
              "          4: 42345,\n",
              "          5: 26597,\n",
              "          6: 17111,\n",
              "          7: 14399,\n",
              "          8: 9966,\n",
              "          9: 6428,\n",
              "          10: 3528,\n",
              "          11: 1873,\n",
              "          12: 1053,\n",
              "          13: 567,\n",
              "          14: 177,\n",
              "          15: 70,\n",
              "          16: 22,\n",
              "          17: 12,\n",
              "          18: 1,\n",
              "          20: 1})"
            ]
          },
          "metadata": {},
          "execution_count": 32
        }
      ]
    },
    {
      "cell_type": "code",
      "metadata": {
        "colab": {
          "base_uri": "https://localhost:8080/"
        },
        "id": "uMPnZe_BwECS",
        "outputId": "bb9ed2b5-4fce-4377-ad66-a74beb77ebd4"
      },
      "source": [
        "fdist1.most_common()"
      ],
      "execution_count": null,
      "outputs": [
        {
          "output_type": "execute_result",
          "data": {
            "text/plain": [
              "[(3, 50223),\n",
              " (1, 47933),\n",
              " (4, 42345),\n",
              " (2, 38513),\n",
              " (5, 26597),\n",
              " (6, 17111),\n",
              " (7, 14399),\n",
              " (8, 9966),\n",
              " (9, 6428),\n",
              " (10, 3528),\n",
              " (11, 1873),\n",
              " (12, 1053),\n",
              " (13, 567),\n",
              " (14, 177),\n",
              " (15, 70),\n",
              " (16, 22),\n",
              " (17, 12),\n",
              " (18, 1),\n",
              " (20, 1)]"
            ]
          },
          "metadata": {},
          "execution_count": 34
        }
      ]
    },
    {
      "cell_type": "code",
      "metadata": {
        "colab": {
          "base_uri": "https://localhost:8080/"
        },
        "id": "LyIkhC6kwmBa",
        "outputId": "1c156137-8867-4bab-95e4-dce50fdb77e7"
      },
      "source": [
        "fdist1.max()"
      ],
      "execution_count": null,
      "outputs": [
        {
          "output_type": "execute_result",
          "data": {
            "text/plain": [
              "3"
            ]
          },
          "metadata": {},
          "execution_count": 35
        }
      ]
    },
    {
      "cell_type": "code",
      "metadata": {
        "colab": {
          "base_uri": "https://localhost:8080/"
        },
        "id": "3wl5OskOwreR",
        "outputId": "10ddb7b8-6101-4ce2-fd0f-51d80415298b"
      },
      "source": [
        "fdist1.freq(3)"
      ],
      "execution_count": null,
      "outputs": [
        {
          "output_type": "execute_result",
          "data": {
            "text/plain": [
              "0.19255882431878046"
            ]
          },
          "metadata": {},
          "execution_count": 37
        }
      ]
    },
    {
      "cell_type": "code",
      "metadata": {
        "colab": {
          "base_uri": "https://localhost:8080/",
          "height": 282
        },
        "id": "iILnHWIRwuFJ",
        "outputId": "688f0ecb-0a05-4618-b6ae-1af445ee1599"
      },
      "source": [
        "fdist1.plot(cumulative = False)"
      ],
      "execution_count": null,
      "outputs": [
        {
          "output_type": "display_data",
          "data": {
            "image/png": "[encoded data removed]",
            "text/plain": [
              "<Figure size 432x288 with 1 Axes>"
            ]
          },
          "metadata": {
            "needs_background": "light"
          }
        }
      ]
    },
    {
      "cell_type": "code",
      "metadata": {
        "id": "ns-HdkIgw0qR"
      },
      "source": [
        ""
      ],
      "execution_count": null,
      "outputs": []
    },
    {
      "cell_type": "markdown",
      "metadata": {
        "id": "JQc6ld-00grl"
      },
      "source": [
        "# Exercises"
      ]
    },
    {
      "cell_type": "markdown",
      "metadata": {
        "id": "2XC9K5oW09MY"
      },
      "source": [
        "## 17 - Use text9.index() to find the index of the word sunset. You'll need to insert this word as an argument between the parentheses. By a process of trial and error, find the slice for the complete sentence that contains this word."
      ]
    },
    {
      "cell_type": "code",
      "metadata": {
        "colab": {
          "base_uri": "https://localhost:8080/"
        },
        "id": "_gG2wpNX07V2",
        "outputId": "517d44c4-0834-464d-d260-a26d616f7245"
      },
      "source": [
        "text9.index('sunset')"
      ],
      "execution_count": null,
      "outputs": [
        {
          "output_type": "execute_result",
          "data": {
            "text/plain": [
              "629"
            ]
          },
          "metadata": {},
          "execution_count": 5
        }
      ]
    },
    {
      "cell_type": "code",
      "metadata": {
        "colab": {
          "base_uri": "https://localhost:8080/"
        },
        "id": "89cygtd51OBX",
        "outputId": "098b5776-45ee-4df0-b402-f4e286c8f974"
      },
      "source": [
        "text9[621:644]"
      ],
      "execution_count": null,
      "outputs": [
        {
          "output_type": "execute_result",
          "data": {
            "text/plain": [
              "['THE',\n",
              " 'suburb',\n",
              " 'of',\n",
              " 'Saffron',\n",
              " 'Park',\n",
              " 'lay',\n",
              " 'on',\n",
              " 'the',\n",
              " 'sunset',\n",
              " 'side',\n",
              " 'of',\n",
              " 'London',\n",
              " ',',\n",
              " 'as',\n",
              " 'red',\n",
              " 'and',\n",
              " 'ragged',\n",
              " 'as',\n",
              " 'a',\n",
              " 'cloud',\n",
              " 'of',\n",
              " 'sunset',\n",
              " '.']"
            ]
          },
          "metadata": {},
          "execution_count": 17
        }
      ]
    },
    {
      "cell_type": "code",
      "metadata": {
        "id": "d8UZGP2c1bam"
      },
      "source": [
        ""
      ],
      "execution_count": null,
      "outputs": []
    },
    {
      "cell_type": "markdown",
      "metadata": {
        "id": "4zICvmin19xK"
      },
      "source": [
        "## 18 - Using list addition, and the set and sorted operations, compute the vocabulary of the sentences sent1 ... sent8."
      ]
    },
    {
      "cell_type": "code",
      "metadata": {
        "id": "G8NjkbX82BSG"
      },
      "source": [
        "sents = [sent1, sent2, sent3, sent4, sent5, sent6, sent7, sent8 ]\n",
        "vocab = []\n",
        "for sent in sents:\n",
        "  vocab+= sent\n",
        "sorted(set(vocab))"
      ],
      "execution_count": null,
      "outputs": []
    },
    {
      "cell_type": "markdown",
      "metadata": {
        "id": "Kjz4fK6F26xT"
      },
      "source": [
        "## 22 -Find all the four-letter words in the Chat Corpus (text5). With the help of a frequency distribution (FreqDist), show these words in decreasing order of frequency."
      ]
    },
    {
      "cell_type": "code",
      "metadata": {
        "id": "VKjMe5Qc2P7e"
      },
      "source": [
        "long_words = [w for w in text5 if len(w)==4]\n",
        "fdist = FreqDist(long_words)"
      ],
      "execution_count": null,
      "outputs": []
    },
    {
      "cell_type": "code",
      "metadata": {
        "colab": {
          "base_uri": "https://localhost:8080/",
          "height": 296
        },
        "id": "qJy_Gl863cF9",
        "outputId": "02560b3a-2c84-42e9-d6ec-215805304a70"
      },
      "source": [
        "fdist.plot(20)"
      ],
      "execution_count": null,
      "outputs": [
        {
          "output_type": "display_data",
          "data": {
            "image/png": "[encoded data removed]",
            "text/plain": [
              "<Figure size 432x288 with 1 Axes>"
            ]
          },
          "metadata": {
            "needs_background": "light"
          }
        }
      ]
    },
    {
      "cell_type": "markdown",
      "metadata": {
        "id": "IaenfGkz6oc3"
      },
      "source": [
        "## 24 - Write expressions for finding all words in text6 that meet the conditions listed below. The result should be in the form of a list of words: ['word1', 'word2', ...].\n",
        "\n",
        "- Ending in ise\n",
        "- Containing the letter z\n",
        "- Containing the sequence of letters pt\n",
        "- Having all lowercase letters except for an initial capital (i.e., titlecase)"
      ]
    },
    {
      "cell_type": "code",
      "metadata": {
        "colab": {
          "base_uri": "https://localhost:8080/"
        },
        "id": "veKJ0MfS3eQ-",
        "outputId": "186732da-5762-4aad-b14f-e0de692d84f8"
      },
      "source": [
        "def finish_ise(text):\n",
        "  words = [w for w in text if w[-3:]== 'ise']\n",
        "  return words\n",
        "\n",
        "ise_words = finish_ise(text6)\n",
        "ise_words[0:5]\n"
      ],
      "execution_count": null,
      "outputs": [
        {
          "output_type": "execute_result",
          "data": {
            "text/plain": [
              "['wise', 'wise', 'apologise', 'surprise', 'surprise']"
            ]
          },
          "metadata": {},
          "execution_count": 57
        }
      ]
    },
    {
      "cell_type": "code",
      "metadata": {
        "colab": {
          "base_uri": "https://localhost:8080/"
        },
        "id": "UOQ5ujzv7Svn",
        "outputId": "6fa48e9a-afe8-483a-e15d-f7a6a18c36fa"
      },
      "source": [
        "def contain_z(text):\n",
        "  words = [w for w in text if  'z' in w]\n",
        "  return words\n",
        "z_words = contain_z(text6)\n",
        "z_words[0:5]"
      ],
      "execution_count": null,
      "outputs": [
        {
          "output_type": "execute_result",
          "data": {
            "text/plain": [
              "['zone', 'amazes', 'Fetchez', 'Fetchez', 'zoop']"
            ]
          },
          "metadata": {},
          "execution_count": 60
        }
      ]
    },
    {
      "cell_type": "code",
      "metadata": {
        "colab": {
          "base_uri": "https://localhost:8080/"
        },
        "id": "3kc-CSol7Vr1",
        "outputId": "3b5b8f3b-0b0f-4360-fbac-e05f9d24878c"
      },
      "source": [
        "def contain_pt(text):\n",
        "  words = [w for w in text if  'pt' in w]\n",
        "  return words\n",
        "pt_words = contain_pt(text6)\n",
        "pt_words[0:5]"
      ],
      "execution_count": null,
      "outputs": [
        {
          "output_type": "execute_result",
          "data": {
            "text/plain": [
              "['empty', 'aptly', 'Thpppppt', 'Thppt', 'Thppt']"
            ]
          },
          "metadata": {},
          "execution_count": 64
        }
      ]
    },
    {
      "cell_type": "code",
      "metadata": {
        "colab": {
          "base_uri": "https://localhost:8080/"
        },
        "id": "HW7lbZg67zgm",
        "outputId": "12abcbc7-d845-4efc-c436-1c2650004561"
      },
      "source": [
        "def lower_case(text):\n",
        "  words = [w for w in text if w[0].isupper() and w[1:].islower()]\n",
        "  return words\n",
        "lower_words = lower_case(text6)\n",
        "lower_words[0:5]"
      ],
      "execution_count": null,
      "outputs": [
        {
          "output_type": "execute_result",
          "data": {
            "text/plain": [
              "['Whoa', 'Halt', 'Who', 'It', 'Arthur']"
            ]
          },
          "metadata": {},
          "execution_count": 67
        }
      ]
    },
    {
      "cell_type": "code",
      "metadata": {
        "colab": {
          "base_uri": "https://localhost:8080/"
        },
        "id": "wDQ9JXrZ8iR2",
        "outputId": "37a3bfdb-53f0-4033-d6c8-7286ade8fb3a"
      },
      "source": [
        ""
      ],
      "execution_count": null,
      "outputs": [
        {
          "output_type": "execute_result",
          "data": {
            "text/plain": [
              "False"
            ]
          },
          "metadata": {},
          "execution_count": 68
        }
      ]
    },
    {
      "cell_type": "code",
      "metadata": {
        "id": "vsWCQVaC8oYm"
      },
      "source": [
        ""
      ],
      "execution_count": null,
      "outputs": []
    }
  ]
}